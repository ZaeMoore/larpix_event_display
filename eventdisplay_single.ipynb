{
 "cells": [
  {
   "cell_type": "code",
   "execution_count": 1,
   "id": "c0f96def-cd86-458e-aef2-f0510457a3dc",
   "metadata": {},
   "outputs": [],
   "source": [
    "from functions import util as util\n",
    "from functions import event_parser as EvtParser\n",
    "from functions import hit_parser as HitParser\n",
    "\n",
    "import h5py\n",
    "import numpy as np\n",
    "import plotly.graph_objects as go\n",
    "import yaml"
   ]
  },
  {
   "cell_type": "code",
   "execution_count": 2,
   "id": "d54ee463-6c96-49a1-9ce4-3dee9ed1f230",
   "metadata": {},
   "outputs": [],
   "source": [
    "switch_xz = False\n",
    "# module0, 2x2, 2x2_MR4, ndlar, singlecube\n",
    "detector = \"singlecube\""
   ]
  },
  {
   "cell_type": "code",
   "execution_count": 3,
   "id": "3564fb51-3f16-4672-9263-47cc2899dabf",
   "metadata": {},
   "outputs": [],
   "source": [
    "def draw_cathode_planes(geom_dict, tpc_centers, **kwargs):\n",
    "    \n",
    "    pos = np.array(list(geom_dict.values())) / 10.\n",
    "    traces = []\n",
    "    for i_mod in range(len(tpc_centers)):\n",
    "        x = np.array([pos[:, 0].min() + tpc_centers[i_mod][2], pos[:, 0].max() + tpc_centers[i_mod][2]])\n",
    "        y = np.array([pos[:, 1].min() + tpc_centers[i_mod][1], pos[:, 1].max() + tpc_centers[i_mod][1]])\n",
    "        z = np.full((2,2),  tpc_centers[i_mod][0])\n",
    "        \n",
    "        traces.append(go.Surface(x=x, y=y, z=z, **kwargs))\n",
    "    \n",
    "    return traces"
   ]
  },
  {
   "cell_type": "code",
   "execution_count": 4,
   "id": "1541f7d4-22fb-4ef6-9d20-9571e770615d",
   "metadata": {},
   "outputs": [],
   "source": [
    "def draw_anode_planes(geom_dict, tpc_centers, **kwargs):\n",
    "    \n",
    "    pos = np.array(list(geom_dict.values())) / 10.\n",
    "    traces = []\n",
    "    \n",
    "    for i_mod in range(len(tpc_centers)):\n",
    "        x = np.array([pos[:, 0].min() + tpc_centers[i_mod][2], pos[:, 0].max() + tpc_centers[i_mod][2]])\n",
    "        y = np.array([pos[:, 1].min() + tpc_centers[i_mod][1], pos[:, 1].max() + tpc_centers[i_mod][1]])\n",
    "        z1 = np.full((2,2),  pos[:, 2].min() + tpc_centers[i_mod][0])\n",
    "        z2 = np.full((2,2),  pos[:, 2].max() + tpc_centers[i_mod][0])\n",
    "        \n",
    "        traces.append(go.Surface(x=x, y=y, z=z1, **kwargs))\n",
    "        traces.append(go.Surface(x=x, y=y, z=z2, **kwargs))\n",
    "    \n",
    "    return traces"
   ]
  },
  {
   "cell_type": "code",
   "execution_count": 5,
   "id": "c50fc86d-e1a7-4c2b-b544-f9849b69942c",
   "metadata": {},
   "outputs": [],
   "source": [
    "def plot_tracks(tracks, **kwargs):\n",
    "    \n",
    "    def to_list(axis):\n",
    "        return np.column_stack([\n",
    "            tracks[f'{axis}_start'],\n",
    "            tracks[f'{axis}_end'],\n",
    "            np.full(len(tracks), None)\n",
    "        ]).flatten().tolist()\n",
    "        \n",
    "    x, y, z = (to_list(axis) for axis in 'xyz')\n",
    "\n",
    "    trace = go.Scatter3d(x=z, y=y, z=x, **kwargs)\n",
    "    \n",
    "    return trace"
   ]
  },
  {
   "cell_type": "code",
   "execution_count": 6,
   "id": "6fa1c92a-322d-4b51-80a2-341edefacb70",
   "metadata": {},
   "outputs": [],
   "source": [
    "f = h5py.File('/Users/emoore06/Work/research/larpix_event_display/data/sc_muonburst_output.h5', 'r')\n",
    "packets = f['packets'] # readout\n",
    "segs = f['segments'] # Geant4 truth\n",
    "assn = f['mc_packets_assn'] # G4-readout association\n",
    "vtx = f['vertices']\n",
    "traj = f['trajectories']"
   ]
  },
  {
   "cell_type": "code",
   "execution_count": 7,
   "id": "b6c7705a-6831-4ce0-899b-c411d49c5d83",
   "metadata": {},
   "outputs": [
    {
     "data": {
      "text/plain": [
       "\"\\n    Loading LArPix geometry and run configuration\\n    Option 1: Use the default, the installed package data\\n              It's recommended, if you are not doing something unusual.\\n\""
      ]
     },
     "execution_count": 7,
     "metadata": {},
     "output_type": "execute_result"
    }
   ],
   "source": [
    "'''\n",
    "    Loading LArPix geometry and run configuration\n",
    "    Option 1: Use the default, the installed package data\n",
    "              It's recommended, if you are not doing something unusual.\n",
    "'''\n",
    "\n",
    "#run_config, geom_dict = util.detector_configuration(detector)"
   ]
  },
  {
   "cell_type": "code",
   "execution_count": 8,
   "id": "ef69b3ff-f414-4387-832e-9a78b494655c",
   "metadata": {},
   "outputs": [
    {
     "data": {
      "text/plain": [
       "'\\n    Loading LArPix geometry and run configuration\\n    Option 2: Point a pre-load LArPix geometry dictionary stored in a pickle file and a run configuration yaml file\\n'"
      ]
     },
     "execution_count": 8,
     "metadata": {},
     "output_type": "execute_result"
    }
   ],
   "source": [
    "'''\n",
    "    Loading LArPix geometry and run configuration\n",
    "    Option 2: Point a pre-load LArPix geometry dictionary stored in a pickle file and a run configuration yaml file\n",
    "'''\n",
    "# geom_dict = util.load_geom_dict(\"../src/LarpixParser/config_repo/dict_repo/multi_tile_layout-3.0.40.pkl\")\n",
    "\n",
    "# run_config_path = '../src/LarpixParser/config_repo/ndlar-module.yaml'\n",
    "# run_config = util.get_run_config(run_config_path)"
   ]
  },
  {
   "cell_type": "code",
   "execution_count": 9,
   "id": "c51594dc-1698-459b-b99d-606e3e34c6b1",
   "metadata": {},
   "outputs": [],
   "source": [
    "'''\n",
    "    Loading LArPix geometry and run configuration\n",
    "    Option 3: Build a LArPix geometry dictionary on the fly and load a run configuration yaml file\n",
    "'''\n",
    "from functions import geom_to_dict as DictBuilder\n",
    "geom_repo = '/Users/emoore06/Work/research/larpix_event_display/config_repo'\n",
    "larpix_layout_name = 'single_tile_layout-2.4.1'\n",
    "geom_dict = DictBuilder.larpix_layout_to_dict(larpix_layout_name, geom_repo, save_dict=False)\n",
    "\n",
    "run_config_path = '/Users/emoore06/Work/research/larpix_event_display/config_repo/singlecube.yaml'\n",
    "run_config = util.get_run_config(run_config_path)"
   ]
  },
  {
   "cell_type": "code",
   "execution_count": 10,
   "id": "b6b0f918",
   "metadata": {},
   "outputs": [],
   "source": [
    "if switch_xz:\n",
    "    tpc_centers_tp = np.array(run_config['tpc_offsets'])\n",
    "    tpc_centers = np.copy(tpc_centers_tp)\n",
    "    tpc_centers[:,0] = tpc_centers_tp[:,2]\n",
    "    tpc_centers[:,2] = tpc_centers_tp[:,0]\n",
    "else:\n",
    "    tpc_centers = run_config['tpc_offsets']"
   ]
  },
  {
   "cell_type": "code",
   "execution_count": 11,
   "id": "f70ccd8c-c6b2-4c7a-8505-a8f2fa5afe50",
   "metadata": {},
   "outputs": [
    {
     "name": "stdout",
     "output_type": "stream",
     "text": [
      "Found no 'beam_duration' in the configuration file\n"
     ]
    }
   ],
   "source": [
    "pckt_event_ids, track_ids, mask = EvtParser.packet_to_eventid(assn, segs)\n",
    "event_ids = EvtParser.get_eventid(vtx)\n",
    "t0_grp = EvtParser.get_t0_event(vtx, run_config)"
   ]
  },
  {
   "cell_type": "code",
   "execution_count": 12,
   "id": "417abcd2-06b0-4a46-ba1e-f3a6841fda13",
   "metadata": {},
   "outputs": [],
   "source": [
    "i_ev = 5 #This is picking one event to look at, change value based on index in event_ids that matches a number in pckt_event_ids\n",
    "t0 = t0_grp[i_ev]\n",
    "evt_id = event_ids[i_ev]\n",
    "\n",
    "pckt_mask = pckt_event_ids == evt_id\n",
    "packets_ev = packets[pckt_mask]\n",
    "assn_ev = assn[pckt_mask]\n",
    "seg_ev = segs[segs['event_id'] == evt_id]\n",
    "    \n",
    "x,y,z,dQ, v_drift_arr, t_drift_arr = HitParser.hit_parser_charge(t0, packets_ev, geom_dict, run_config, switch_xz)\n",
    "\n",
    "x = np.array(x) / 10. #Converting from mm to cm\n",
    "y = np.array(y) / 10. #Converting from mm to cm\n",
    "z = np.array(z) / 10000000. \n"
   ]
  },
  {
   "cell_type": "code",
   "execution_count": 13,
   "id": "887a1f0c",
   "metadata": {},
   "outputs": [
    {
     "data": {
      "text/plain": [
       "49"
      ]
     },
     "execution_count": 13,
     "metadata": {},
     "output_type": "execute_result"
    }
   ],
   "source": [
    "len(packets_ev)"
   ]
  },
  {
   "cell_type": "code",
   "execution_count": 14,
   "id": "7eeb7935-aeb3-491b-82aa-b27e21f914b1",
   "metadata": {
    "tags": []
   },
   "outputs": [
    {
     "data": {
      "application/vnd.plotly.v1+json": {
       "config": {
        "plotlyServerURL": "https://plot.ly"
       },
       "data": [
        {
         "colorscale": [
          [
           0,
           "rgb(3, 5, 18)"
          ],
          [
           0.09090909090909091,
           "rgb(25, 25, 51)"
          ],
          [
           0.18181818181818182,
           "rgb(44, 42, 87)"
          ],
          [
           0.2727272727272727,
           "rgb(58, 60, 125)"
          ],
          [
           0.36363636363636365,
           "rgb(62, 83, 160)"
          ],
          [
           0.45454545454545453,
           "rgb(62, 109, 178)"
          ],
          [
           0.5454545454545454,
           "rgb(72, 134, 187)"
          ],
          [
           0.6363636363636364,
           "rgb(89, 159, 196)"
          ],
          [
           0.7272727272727273,
           "rgb(114, 184, 205)"
          ],
          [
           0.8181818181818182,
           "rgb(149, 207, 216)"
          ],
          [
           0.9090909090909091,
           "rgb(192, 229, 232)"
          ],
          [
           1,
           "rgb(234, 252, 253)"
          ]
         ],
         "opacity": 0.3,
         "showscale": false,
         "type": "surface",
         "x": [
          -15.297300000000002,
          15.297299999999998
         ],
         "y": [
          -0.16729999999999734,
          30.427300000000002
         ],
         "z": [
          [
           0,
           0
          ],
          [
           0,
           0
          ]
         ]
        },
        {
         "colorscale": [
          [
           0,
           "rgb(3, 5, 18)"
          ],
          [
           0.09090909090909091,
           "rgb(25, 25, 51)"
          ],
          [
           0.18181818181818182,
           "rgb(44, 42, 87)"
          ],
          [
           0.2727272727272727,
           "rgb(58, 60, 125)"
          ],
          [
           0.36363636363636365,
           "rgb(62, 83, 160)"
          ],
          [
           0.45454545454545453,
           "rgb(62, 109, 178)"
          ],
          [
           0.5454545454545454,
           "rgb(72, 134, 187)"
          ],
          [
           0.6363636363636364,
           "rgb(89, 159, 196)"
          ],
          [
           0.7272727272727273,
           "rgb(114, 184, 205)"
          ],
          [
           0.8181818181818182,
           "rgb(149, 207, 216)"
          ],
          [
           0.9090909090909091,
           "rgb(192, 229, 232)"
          ],
          [
           1,
           "rgb(234, 252, 253)"
          ]
         ],
         "opacity": 0.3,
         "showscale": false,
         "type": "surface",
         "x": [
          -15.297300000000002,
          15.297299999999998
         ],
         "y": [
          -0.16729999999999734,
          30.427300000000002
         ],
         "z": [
          [
           0,
           0
          ],
          [
           0,
           0
          ]
         ]
        },
        {
         "colorscale": [
          [
           0,
           "rgb(3, 5, 18)"
          ],
          [
           0.09090909090909091,
           "rgb(25, 25, 51)"
          ],
          [
           0.18181818181818182,
           "rgb(44, 42, 87)"
          ],
          [
           0.2727272727272727,
           "rgb(58, 60, 125)"
          ],
          [
           0.36363636363636365,
           "rgb(62, 83, 160)"
          ],
          [
           0.45454545454545453,
           "rgb(62, 109, 178)"
          ],
          [
           0.5454545454545454,
           "rgb(72, 134, 187)"
          ],
          [
           0.6363636363636364,
           "rgb(89, 159, 196)"
          ],
          [
           0.7272727272727273,
           "rgb(114, 184, 205)"
          ],
          [
           0.8181818181818182,
           "rgb(149, 207, 216)"
          ],
          [
           0.9090909090909091,
           "rgb(192, 229, 232)"
          ],
          [
           1,
           "rgb(234, 252, 253)"
          ]
         ],
         "opacity": 0.3,
         "showscale": false,
         "type": "surface",
         "x": [
          -15.297300000000002,
          15.297299999999998
         ],
         "y": [
          -0.16729999999999734,
          30.427300000000002
         ],
         "z": [
          [
           0,
           0
          ],
          [
           0,
           0
          ]
         ]
        },
        {
         "colorscale": [
          [
           0,
           "rgb(3, 5, 18)"
          ],
          [
           0.09090909090909091,
           "rgb(25, 25, 51)"
          ],
          [
           0.18181818181818182,
           "rgb(44, 42, 87)"
          ],
          [
           0.2727272727272727,
           "rgb(58, 60, 125)"
          ],
          [
           0.36363636363636365,
           "rgb(62, 83, 160)"
          ],
          [
           0.45454545454545453,
           "rgb(62, 109, 178)"
          ],
          [
           0.5454545454545454,
           "rgb(72, 134, 187)"
          ],
          [
           0.6363636363636364,
           "rgb(89, 159, 196)"
          ],
          [
           0.7272727272727273,
           "rgb(114, 184, 205)"
          ],
          [
           0.8181818181818182,
           "rgb(149, 207, 216)"
          ],
          [
           0.9090909090909091,
           "rgb(192, 229, 232)"
          ],
          [
           1,
           "rgb(234, 252, 253)"
          ]
         ],
         "opacity": 0.3,
         "showscale": false,
         "type": "surface",
         "x": [
          -15.297300000000002,
          15.297299999999998
         ],
         "y": [
          -0.16729999999999734,
          30.427300000000002
         ],
         "z": [
          [
           0,
           0
          ],
          [
           0,
           0
          ]
         ]
        },
        {
         "colorscale": [
          [
           0,
           "rgb(3, 5, 18)"
          ],
          [
           0.09090909090909091,
           "rgb(25, 25, 51)"
          ],
          [
           0.18181818181818182,
           "rgb(44, 42, 87)"
          ],
          [
           0.2727272727272727,
           "rgb(58, 60, 125)"
          ],
          [
           0.36363636363636365,
           "rgb(62, 83, 160)"
          ],
          [
           0.45454545454545453,
           "rgb(62, 109, 178)"
          ],
          [
           0.5454545454545454,
           "rgb(72, 134, 187)"
          ],
          [
           0.6363636363636364,
           "rgb(89, 159, 196)"
          ],
          [
           0.7272727272727273,
           "rgb(114, 184, 205)"
          ],
          [
           0.8181818181818182,
           "rgb(149, 207, 216)"
          ],
          [
           0.9090909090909091,
           "rgb(192, 229, 232)"
          ],
          [
           1,
           "rgb(234, 252, 253)"
          ]
         ],
         "opacity": 0.3,
         "showscale": false,
         "type": "surface",
         "x": [
          -15.297300000000002,
          15.297299999999998
         ],
         "y": [
          -0.16729999999999734,
          30.427300000000002
         ],
         "z": [
          [
           0,
           0
          ],
          [
           0,
           0
          ]
         ]
        },
        {
         "colorscale": [
          [
           0,
           "rgb(3, 5, 18)"
          ],
          [
           0.09090909090909091,
           "rgb(25, 25, 51)"
          ],
          [
           0.18181818181818182,
           "rgb(44, 42, 87)"
          ],
          [
           0.2727272727272727,
           "rgb(58, 60, 125)"
          ],
          [
           0.36363636363636365,
           "rgb(62, 83, 160)"
          ],
          [
           0.45454545454545453,
           "rgb(62, 109, 178)"
          ],
          [
           0.5454545454545454,
           "rgb(72, 134, 187)"
          ],
          [
           0.6363636363636364,
           "rgb(89, 159, 196)"
          ],
          [
           0.7272727272727273,
           "rgb(114, 184, 205)"
          ],
          [
           0.8181818181818182,
           "rgb(149, 207, 216)"
          ],
          [
           0.9090909090909091,
           "rgb(192, 229, 232)"
          ],
          [
           1,
           "rgb(234, 252, 253)"
          ]
         ],
         "opacity": 0.3,
         "showscale": false,
         "type": "surface",
         "x": [
          -15.297300000000002,
          15.297299999999998
         ],
         "y": [
          -0.16729999999999734,
          30.427300000000002
         ],
         "z": [
          [
           0,
           0
          ],
          [
           0,
           0
          ]
         ]
        },
        {
         "colorscale": [
          [
           0,
           "rgb(3, 5, 18)"
          ],
          [
           0.09090909090909091,
           "rgb(25, 25, 51)"
          ],
          [
           0.18181818181818182,
           "rgb(44, 42, 87)"
          ],
          [
           0.2727272727272727,
           "rgb(58, 60, 125)"
          ],
          [
           0.36363636363636365,
           "rgb(62, 83, 160)"
          ],
          [
           0.45454545454545453,
           "rgb(62, 109, 178)"
          ],
          [
           0.5454545454545454,
           "rgb(72, 134, 187)"
          ],
          [
           0.6363636363636364,
           "rgb(89, 159, 196)"
          ],
          [
           0.7272727272727273,
           "rgb(114, 184, 205)"
          ],
          [
           0.8181818181818182,
           "rgb(149, 207, 216)"
          ],
          [
           0.9090909090909091,
           "rgb(192, 229, 232)"
          ],
          [
           1,
           "rgb(234, 252, 253)"
          ]
         ],
         "opacity": 0.3,
         "showscale": false,
         "type": "surface",
         "x": [
          -15.297300000000002,
          15.297299999999998
         ],
         "y": [
          -0.16729999999999734,
          30.427300000000002
         ],
         "z": [
          [
           0,
           0
          ],
          [
           0,
           0
          ]
         ]
        },
        {
         "colorscale": [
          [
           0,
           "rgb(3, 5, 18)"
          ],
          [
           0.09090909090909091,
           "rgb(25, 25, 51)"
          ],
          [
           0.18181818181818182,
           "rgb(44, 42, 87)"
          ],
          [
           0.2727272727272727,
           "rgb(58, 60, 125)"
          ],
          [
           0.36363636363636365,
           "rgb(62, 83, 160)"
          ],
          [
           0.45454545454545453,
           "rgb(62, 109, 178)"
          ],
          [
           0.5454545454545454,
           "rgb(72, 134, 187)"
          ],
          [
           0.6363636363636364,
           "rgb(89, 159, 196)"
          ],
          [
           0.7272727272727273,
           "rgb(114, 184, 205)"
          ],
          [
           0.8181818181818182,
           "rgb(149, 207, 216)"
          ],
          [
           0.9090909090909091,
           "rgb(192, 229, 232)"
          ],
          [
           1,
           "rgb(234, 252, 253)"
          ]
         ],
         "opacity": 0.3,
         "showscale": false,
         "type": "surface",
         "x": [
          -15.297300000000002,
          15.297299999999998
         ],
         "y": [
          -0.16729999999999734,
          30.427300000000002
         ],
         "z": [
          [
           0,
           0
          ],
          [
           0,
           0
          ]
         ]
        },
        {
         "colorscale": [
          [
           0,
           "rgb(3, 5, 18)"
          ],
          [
           0.09090909090909091,
           "rgb(25, 25, 51)"
          ],
          [
           0.18181818181818182,
           "rgb(44, 42, 87)"
          ],
          [
           0.2727272727272727,
           "rgb(58, 60, 125)"
          ],
          [
           0.36363636363636365,
           "rgb(62, 83, 160)"
          ],
          [
           0.45454545454545453,
           "rgb(62, 109, 178)"
          ],
          [
           0.5454545454545454,
           "rgb(72, 134, 187)"
          ],
          [
           0.6363636363636364,
           "rgb(89, 159, 196)"
          ],
          [
           0.7272727272727273,
           "rgb(114, 184, 205)"
          ],
          [
           0.8181818181818182,
           "rgb(149, 207, 216)"
          ],
          [
           0.9090909090909091,
           "rgb(192, 229, 232)"
          ],
          [
           1,
           "rgb(234, 252, 253)"
          ]
         ],
         "opacity": 0.3,
         "showscale": false,
         "type": "surface",
         "x": [
          -15.297300000000002,
          15.297299999999998
         ],
         "y": [
          -0.16729999999999734,
          30.427300000000002
         ],
         "z": [
          [
           0,
           0
          ],
          [
           0,
           0
          ]
         ]
        },
        {
         "colorscale": [
          [
           0,
           "rgb(3, 5, 18)"
          ],
          [
           0.09090909090909091,
           "rgb(25, 25, 51)"
          ],
          [
           0.18181818181818182,
           "rgb(44, 42, 87)"
          ],
          [
           0.2727272727272727,
           "rgb(58, 60, 125)"
          ],
          [
           0.36363636363636365,
           "rgb(62, 83, 160)"
          ],
          [
           0.45454545454545453,
           "rgb(62, 109, 178)"
          ],
          [
           0.5454545454545454,
           "rgb(72, 134, 187)"
          ],
          [
           0.6363636363636364,
           "rgb(89, 159, 196)"
          ],
          [
           0.7272727272727273,
           "rgb(114, 184, 205)"
          ],
          [
           0.8181818181818182,
           "rgb(149, 207, 216)"
          ],
          [
           0.9090909090909091,
           "rgb(192, 229, 232)"
          ],
          [
           1,
           "rgb(234, 252, 253)"
          ]
         ],
         "opacity": 0.3,
         "showscale": false,
         "type": "surface",
         "x": [
          -15.297300000000002,
          15.297299999999998
         ],
         "y": [
          -0.16729999999999734,
          30.427300000000002
         ],
         "z": [
          [
           0,
           0
          ],
          [
           0,
           0
          ]
         ]
        },
        {
         "colorscale": [
          [
           0,
           "rgb(3, 5, 18)"
          ],
          [
           0.09090909090909091,
           "rgb(25, 25, 51)"
          ],
          [
           0.18181818181818182,
           "rgb(44, 42, 87)"
          ],
          [
           0.2727272727272727,
           "rgb(58, 60, 125)"
          ],
          [
           0.36363636363636365,
           "rgb(62, 83, 160)"
          ],
          [
           0.45454545454545453,
           "rgb(62, 109, 178)"
          ],
          [
           0.5454545454545454,
           "rgb(72, 134, 187)"
          ],
          [
           0.6363636363636364,
           "rgb(89, 159, 196)"
          ],
          [
           0.7272727272727273,
           "rgb(114, 184, 205)"
          ],
          [
           0.8181818181818182,
           "rgb(149, 207, 216)"
          ],
          [
           0.9090909090909091,
           "rgb(192, 229, 232)"
          ],
          [
           1,
           "rgb(234, 252, 253)"
          ]
         ],
         "opacity": 0.3,
         "showscale": false,
         "type": "surface",
         "x": [
          -15.297300000000002,
          15.297299999999998
         ],
         "y": [
          -0.16729999999999734,
          30.427300000000002
         ],
         "z": [
          [
           0,
           0
          ],
          [
           0,
           0
          ]
         ]
        },
        {
         "colorscale": [
          [
           0,
           "rgb(3, 5, 18)"
          ],
          [
           0.09090909090909091,
           "rgb(25, 25, 51)"
          ],
          [
           0.18181818181818182,
           "rgb(44, 42, 87)"
          ],
          [
           0.2727272727272727,
           "rgb(58, 60, 125)"
          ],
          [
           0.36363636363636365,
           "rgb(62, 83, 160)"
          ],
          [
           0.45454545454545453,
           "rgb(62, 109, 178)"
          ],
          [
           0.5454545454545454,
           "rgb(72, 134, 187)"
          ],
          [
           0.6363636363636364,
           "rgb(89, 159, 196)"
          ],
          [
           0.7272727272727273,
           "rgb(114, 184, 205)"
          ],
          [
           0.8181818181818182,
           "rgb(149, 207, 216)"
          ],
          [
           0.9090909090909091,
           "rgb(192, 229, 232)"
          ],
          [
           1,
           "rgb(234, 252, 253)"
          ]
         ],
         "opacity": 0.3,
         "showscale": false,
         "type": "surface",
         "x": [
          -15.297300000000002,
          15.297299999999998
         ],
         "y": [
          -0.16729999999999734,
          30.427300000000002
         ],
         "z": [
          [
           0,
           0
          ],
          [
           0,
           0
          ]
         ]
        },
        {
         "colorscale": [
          [
           0,
           "rgb(3, 5, 18)"
          ],
          [
           0.09090909090909091,
           "rgb(25, 25, 51)"
          ],
          [
           0.18181818181818182,
           "rgb(44, 42, 87)"
          ],
          [
           0.2727272727272727,
           "rgb(58, 60, 125)"
          ],
          [
           0.36363636363636365,
           "rgb(62, 83, 160)"
          ],
          [
           0.45454545454545453,
           "rgb(62, 109, 178)"
          ],
          [
           0.5454545454545454,
           "rgb(72, 134, 187)"
          ],
          [
           0.6363636363636364,
           "rgb(89, 159, 196)"
          ],
          [
           0.7272727272727273,
           "rgb(114, 184, 205)"
          ],
          [
           0.8181818181818182,
           "rgb(149, 207, 216)"
          ],
          [
           0.9090909090909091,
           "rgb(192, 229, 232)"
          ],
          [
           1,
           "rgb(234, 252, 253)"
          ]
         ],
         "opacity": 0.3,
         "showscale": false,
         "type": "surface",
         "x": [
          -15.297300000000002,
          15.297299999999998
         ],
         "y": [
          -0.16729999999999734,
          30.427300000000002
         ],
         "z": [
          [
           0,
           0
          ],
          [
           0,
           0
          ]
         ]
        },
        {
         "colorscale": [
          [
           0,
           "rgb(3, 5, 18)"
          ],
          [
           0.09090909090909091,
           "rgb(25, 25, 51)"
          ],
          [
           0.18181818181818182,
           "rgb(44, 42, 87)"
          ],
          [
           0.2727272727272727,
           "rgb(58, 60, 125)"
          ],
          [
           0.36363636363636365,
           "rgb(62, 83, 160)"
          ],
          [
           0.45454545454545453,
           "rgb(62, 109, 178)"
          ],
          [
           0.5454545454545454,
           "rgb(72, 134, 187)"
          ],
          [
           0.6363636363636364,
           "rgb(89, 159, 196)"
          ],
          [
           0.7272727272727273,
           "rgb(114, 184, 205)"
          ],
          [
           0.8181818181818182,
           "rgb(149, 207, 216)"
          ],
          [
           0.9090909090909091,
           "rgb(192, 229, 232)"
          ],
          [
           1,
           "rgb(234, 252, 253)"
          ]
         ],
         "opacity": 0.3,
         "showscale": false,
         "type": "surface",
         "x": [
          -15.297300000000002,
          15.297299999999998
         ],
         "y": [
          -0.16729999999999734,
          30.427300000000002
         ],
         "z": [
          [
           0,
           0
          ],
          [
           0,
           0
          ]
         ]
        },
        {
         "colorscale": [
          [
           0,
           "rgb(3, 5, 18)"
          ],
          [
           0.09090909090909091,
           "rgb(25, 25, 51)"
          ],
          [
           0.18181818181818182,
           "rgb(44, 42, 87)"
          ],
          [
           0.2727272727272727,
           "rgb(58, 60, 125)"
          ],
          [
           0.36363636363636365,
           "rgb(62, 83, 160)"
          ],
          [
           0.45454545454545453,
           "rgb(62, 109, 178)"
          ],
          [
           0.5454545454545454,
           "rgb(72, 134, 187)"
          ],
          [
           0.6363636363636364,
           "rgb(89, 159, 196)"
          ],
          [
           0.7272727272727273,
           "rgb(114, 184, 205)"
          ],
          [
           0.8181818181818182,
           "rgb(149, 207, 216)"
          ],
          [
           0.9090909090909091,
           "rgb(192, 229, 232)"
          ],
          [
           1,
           "rgb(234, 252, 253)"
          ]
         ],
         "opacity": 0.3,
         "showscale": false,
         "type": "surface",
         "x": [
          -15.297300000000002,
          15.297299999999998
         ],
         "y": [
          -0.16729999999999734,
          30.427300000000002
         ],
         "z": [
          [
           0,
           0
          ],
          [
           0,
           0
          ]
         ]
        },
        {
         "colorscale": [
          [
           0,
           "rgb(3, 5, 18)"
          ],
          [
           0.09090909090909091,
           "rgb(25, 25, 51)"
          ],
          [
           0.18181818181818182,
           "rgb(44, 42, 87)"
          ],
          [
           0.2727272727272727,
           "rgb(58, 60, 125)"
          ],
          [
           0.36363636363636365,
           "rgb(62, 83, 160)"
          ],
          [
           0.45454545454545453,
           "rgb(62, 109, 178)"
          ],
          [
           0.5454545454545454,
           "rgb(72, 134, 187)"
          ],
          [
           0.6363636363636364,
           "rgb(89, 159, 196)"
          ],
          [
           0.7272727272727273,
           "rgb(114, 184, 205)"
          ],
          [
           0.8181818181818182,
           "rgb(149, 207, 216)"
          ],
          [
           0.9090909090909091,
           "rgb(192, 229, 232)"
          ],
          [
           1,
           "rgb(234, 252, 253)"
          ]
         ],
         "opacity": 0.3,
         "showscale": false,
         "type": "surface",
         "x": [
          -15.297300000000002,
          15.297299999999998
         ],
         "y": [
          -0.16729999999999734,
          30.427300000000002
         ],
         "z": [
          [
           0,
           0
          ],
          [
           0,
           0
          ]
         ]
        },
        {
         "colorscale": [
          [
           0,
           "rgb(3, 5, 18)"
          ],
          [
           0.09090909090909091,
           "rgb(25, 25, 51)"
          ],
          [
           0.18181818181818182,
           "rgb(44, 42, 87)"
          ],
          [
           0.2727272727272727,
           "rgb(58, 60, 125)"
          ],
          [
           0.36363636363636365,
           "rgb(62, 83, 160)"
          ],
          [
           0.45454545454545453,
           "rgb(62, 109, 178)"
          ],
          [
           0.5454545454545454,
           "rgb(72, 134, 187)"
          ],
          [
           0.6363636363636364,
           "rgb(89, 159, 196)"
          ],
          [
           0.7272727272727273,
           "rgb(114, 184, 205)"
          ],
          [
           0.8181818181818182,
           "rgb(149, 207, 216)"
          ],
          [
           0.9090909090909091,
           "rgb(192, 229, 232)"
          ],
          [
           1,
           "rgb(234, 252, 253)"
          ]
         ],
         "opacity": 0.3,
         "showscale": false,
         "type": "surface",
         "x": [
          -15.297300000000002,
          15.297299999999998
         ],
         "y": [
          -0.16729999999999734,
          30.427300000000002
         ],
         "z": [
          [
           0,
           0
          ],
          [
           0,
           0
          ]
         ]
        },
        {
         "colorscale": [
          [
           0,
           "rgb(3, 5, 18)"
          ],
          [
           0.09090909090909091,
           "rgb(25, 25, 51)"
          ],
          [
           0.18181818181818182,
           "rgb(44, 42, 87)"
          ],
          [
           0.2727272727272727,
           "rgb(58, 60, 125)"
          ],
          [
           0.36363636363636365,
           "rgb(62, 83, 160)"
          ],
          [
           0.45454545454545453,
           "rgb(62, 109, 178)"
          ],
          [
           0.5454545454545454,
           "rgb(72, 134, 187)"
          ],
          [
           0.6363636363636364,
           "rgb(89, 159, 196)"
          ],
          [
           0.7272727272727273,
           "rgb(114, 184, 205)"
          ],
          [
           0.8181818181818182,
           "rgb(149, 207, 216)"
          ],
          [
           0.9090909090909091,
           "rgb(192, 229, 232)"
          ],
          [
           1,
           "rgb(234, 252, 253)"
          ]
         ],
         "opacity": 0.3,
         "showscale": false,
         "type": "surface",
         "x": [
          -15.297300000000002,
          15.297299999999998
         ],
         "y": [
          -0.16729999999999734,
          30.427300000000002
         ],
         "z": [
          [
           0,
           0
          ],
          [
           0,
           0
          ]
         ]
        },
        {
         "colorscale": [
          [
           0,
           "rgb(3, 5, 18)"
          ],
          [
           0.09090909090909091,
           "rgb(25, 25, 51)"
          ],
          [
           0.18181818181818182,
           "rgb(44, 42, 87)"
          ],
          [
           0.2727272727272727,
           "rgb(58, 60, 125)"
          ],
          [
           0.36363636363636365,
           "rgb(62, 83, 160)"
          ],
          [
           0.45454545454545453,
           "rgb(62, 109, 178)"
          ],
          [
           0.5454545454545454,
           "rgb(72, 134, 187)"
          ],
          [
           0.6363636363636364,
           "rgb(89, 159, 196)"
          ],
          [
           0.7272727272727273,
           "rgb(114, 184, 205)"
          ],
          [
           0.8181818181818182,
           "rgb(149, 207, 216)"
          ],
          [
           0.9090909090909091,
           "rgb(192, 229, 232)"
          ],
          [
           1,
           "rgb(234, 252, 253)"
          ]
         ],
         "opacity": 0.3,
         "showscale": false,
         "type": "surface",
         "x": [
          -15.297300000000002,
          15.297299999999998
         ],
         "y": [
          -0.16729999999999734,
          30.427300000000002
         ],
         "z": [
          [
           0,
           0
          ],
          [
           0,
           0
          ]
         ]
        },
        {
         "colorscale": [
          [
           0,
           "rgb(3, 5, 18)"
          ],
          [
           0.09090909090909091,
           "rgb(25, 25, 51)"
          ],
          [
           0.18181818181818182,
           "rgb(44, 42, 87)"
          ],
          [
           0.2727272727272727,
           "rgb(58, 60, 125)"
          ],
          [
           0.36363636363636365,
           "rgb(62, 83, 160)"
          ],
          [
           0.45454545454545453,
           "rgb(62, 109, 178)"
          ],
          [
           0.5454545454545454,
           "rgb(72, 134, 187)"
          ],
          [
           0.6363636363636364,
           "rgb(89, 159, 196)"
          ],
          [
           0.7272727272727273,
           "rgb(114, 184, 205)"
          ],
          [
           0.8181818181818182,
           "rgb(149, 207, 216)"
          ],
          [
           0.9090909090909091,
           "rgb(192, 229, 232)"
          ],
          [
           1,
           "rgb(234, 252, 253)"
          ]
         ],
         "opacity": 0.3,
         "showscale": false,
         "type": "surface",
         "x": [
          -15.297300000000002,
          15.297299999999998
         ],
         "y": [
          -0.16729999999999734,
          30.427300000000002
         ],
         "z": [
          [
           0,
           0
          ],
          [
           0,
           0
          ]
         ]
        },
        {
         "colorscale": [
          [
           0,
           "rgb(3, 5, 18)"
          ],
          [
           0.09090909090909091,
           "rgb(25, 25, 51)"
          ],
          [
           0.18181818181818182,
           "rgb(44, 42, 87)"
          ],
          [
           0.2727272727272727,
           "rgb(58, 60, 125)"
          ],
          [
           0.36363636363636365,
           "rgb(62, 83, 160)"
          ],
          [
           0.45454545454545453,
           "rgb(62, 109, 178)"
          ],
          [
           0.5454545454545454,
           "rgb(72, 134, 187)"
          ],
          [
           0.6363636363636364,
           "rgb(89, 159, 196)"
          ],
          [
           0.7272727272727273,
           "rgb(114, 184, 205)"
          ],
          [
           0.8181818181818182,
           "rgb(149, 207, 216)"
          ],
          [
           0.9090909090909091,
           "rgb(192, 229, 232)"
          ],
          [
           1,
           "rgb(234, 252, 253)"
          ]
         ],
         "opacity": 0.3,
         "showscale": false,
         "type": "surface",
         "x": [
          -15.297300000000002,
          15.297299999999998
         ],
         "y": [
          -0.16729999999999734,
          30.427300000000002
         ],
         "z": [
          [
           0,
           0
          ],
          [
           0,
           0
          ]
         ]
        },
        {
         "colorscale": [
          [
           0,
           "rgb(3, 5, 18)"
          ],
          [
           0.09090909090909091,
           "rgb(25, 25, 51)"
          ],
          [
           0.18181818181818182,
           "rgb(44, 42, 87)"
          ],
          [
           0.2727272727272727,
           "rgb(58, 60, 125)"
          ],
          [
           0.36363636363636365,
           "rgb(62, 83, 160)"
          ],
          [
           0.45454545454545453,
           "rgb(62, 109, 178)"
          ],
          [
           0.5454545454545454,
           "rgb(72, 134, 187)"
          ],
          [
           0.6363636363636364,
           "rgb(89, 159, 196)"
          ],
          [
           0.7272727272727273,
           "rgb(114, 184, 205)"
          ],
          [
           0.8181818181818182,
           "rgb(149, 207, 216)"
          ],
          [
           0.9090909090909091,
           "rgb(192, 229, 232)"
          ],
          [
           1,
           "rgb(234, 252, 253)"
          ]
         ],
         "opacity": 0.3,
         "showscale": false,
         "type": "surface",
         "x": [
          -15.297300000000002,
          15.297299999999998
         ],
         "y": [
          -0.16729999999999734,
          30.427300000000002
         ],
         "z": [
          [
           0,
           0
          ],
          [
           0,
           0
          ]
         ]
        },
        {
         "colorscale": [
          [
           0,
           "rgb(3, 5, 18)"
          ],
          [
           0.09090909090909091,
           "rgb(25, 25, 51)"
          ],
          [
           0.18181818181818182,
           "rgb(44, 42, 87)"
          ],
          [
           0.2727272727272727,
           "rgb(58, 60, 125)"
          ],
          [
           0.36363636363636365,
           "rgb(62, 83, 160)"
          ],
          [
           0.45454545454545453,
           "rgb(62, 109, 178)"
          ],
          [
           0.5454545454545454,
           "rgb(72, 134, 187)"
          ],
          [
           0.6363636363636364,
           "rgb(89, 159, 196)"
          ],
          [
           0.7272727272727273,
           "rgb(114, 184, 205)"
          ],
          [
           0.8181818181818182,
           "rgb(149, 207, 216)"
          ],
          [
           0.9090909090909091,
           "rgb(192, 229, 232)"
          ],
          [
           1,
           "rgb(234, 252, 253)"
          ]
         ],
         "opacity": 0.3,
         "showscale": false,
         "type": "surface",
         "x": [
          -15.297300000000002,
          15.297299999999998
         ],
         "y": [
          -0.16729999999999734,
          30.427300000000002
         ],
         "z": [
          [
           0,
           0
          ],
          [
           0,
           0
          ]
         ]
        },
        {
         "colorscale": [
          [
           0,
           "rgb(3, 5, 18)"
          ],
          [
           0.09090909090909091,
           "rgb(25, 25, 51)"
          ],
          [
           0.18181818181818182,
           "rgb(44, 42, 87)"
          ],
          [
           0.2727272727272727,
           "rgb(58, 60, 125)"
          ],
          [
           0.36363636363636365,
           "rgb(62, 83, 160)"
          ],
          [
           0.45454545454545453,
           "rgb(62, 109, 178)"
          ],
          [
           0.5454545454545454,
           "rgb(72, 134, 187)"
          ],
          [
           0.6363636363636364,
           "rgb(89, 159, 196)"
          ],
          [
           0.7272727272727273,
           "rgb(114, 184, 205)"
          ],
          [
           0.8181818181818182,
           "rgb(149, 207, 216)"
          ],
          [
           0.9090909090909091,
           "rgb(192, 229, 232)"
          ],
          [
           1,
           "rgb(234, 252, 253)"
          ]
         ],
         "opacity": 0.3,
         "showscale": false,
         "type": "surface",
         "x": [
          -15.297300000000002,
          15.297299999999998
         ],
         "y": [
          -0.16729999999999734,
          30.427300000000002
         ],
         "z": [
          [
           0,
           0
          ],
          [
           0,
           0
          ]
         ]
        },
        {
         "colorscale": [
          [
           0,
           "rgb(3, 5, 18)"
          ],
          [
           0.09090909090909091,
           "rgb(25, 25, 51)"
          ],
          [
           0.18181818181818182,
           "rgb(44, 42, 87)"
          ],
          [
           0.2727272727272727,
           "rgb(58, 60, 125)"
          ],
          [
           0.36363636363636365,
           "rgb(62, 83, 160)"
          ],
          [
           0.45454545454545453,
           "rgb(62, 109, 178)"
          ],
          [
           0.5454545454545454,
           "rgb(72, 134, 187)"
          ],
          [
           0.6363636363636364,
           "rgb(89, 159, 196)"
          ],
          [
           0.7272727272727273,
           "rgb(114, 184, 205)"
          ],
          [
           0.8181818181818182,
           "rgb(149, 207, 216)"
          ],
          [
           0.9090909090909091,
           "rgb(192, 229, 232)"
          ],
          [
           1,
           "rgb(234, 252, 253)"
          ]
         ],
         "opacity": 0.3,
         "showscale": false,
         "type": "surface",
         "x": [
          -15.297300000000002,
          15.297299999999998
         ],
         "y": [
          -0.16729999999999734,
          30.427300000000002
         ],
         "z": [
          [
           0,
           0
          ],
          [
           0,
           0
          ]
         ]
        },
        {
         "colorscale": [
          [
           0,
           "rgb(3, 5, 18)"
          ],
          [
           0.09090909090909091,
           "rgb(25, 25, 51)"
          ],
          [
           0.18181818181818182,
           "rgb(44, 42, 87)"
          ],
          [
           0.2727272727272727,
           "rgb(58, 60, 125)"
          ],
          [
           0.36363636363636365,
           "rgb(62, 83, 160)"
          ],
          [
           0.45454545454545453,
           "rgb(62, 109, 178)"
          ],
          [
           0.5454545454545454,
           "rgb(72, 134, 187)"
          ],
          [
           0.6363636363636364,
           "rgb(89, 159, 196)"
          ],
          [
           0.7272727272727273,
           "rgb(114, 184, 205)"
          ],
          [
           0.8181818181818182,
           "rgb(149, 207, 216)"
          ],
          [
           0.9090909090909091,
           "rgb(192, 229, 232)"
          ],
          [
           1,
           "rgb(234, 252, 253)"
          ]
         ],
         "opacity": 0.3,
         "showscale": false,
         "type": "surface",
         "x": [
          -15.297300000000002,
          15.297299999999998
         ],
         "y": [
          -0.16729999999999734,
          30.427300000000002
         ],
         "z": [
          [
           0,
           0
          ],
          [
           0,
           0
          ]
         ]
        },
        {
         "colorscale": [
          [
           0,
           "rgb(3, 5, 18)"
          ],
          [
           0.09090909090909091,
           "rgb(25, 25, 51)"
          ],
          [
           0.18181818181818182,
           "rgb(44, 42, 87)"
          ],
          [
           0.2727272727272727,
           "rgb(58, 60, 125)"
          ],
          [
           0.36363636363636365,
           "rgb(62, 83, 160)"
          ],
          [
           0.45454545454545453,
           "rgb(62, 109, 178)"
          ],
          [
           0.5454545454545454,
           "rgb(72, 134, 187)"
          ],
          [
           0.6363636363636364,
           "rgb(89, 159, 196)"
          ],
          [
           0.7272727272727273,
           "rgb(114, 184, 205)"
          ],
          [
           0.8181818181818182,
           "rgb(149, 207, 216)"
          ],
          [
           0.9090909090909091,
           "rgb(192, 229, 232)"
          ],
          [
           1,
           "rgb(234, 252, 253)"
          ]
         ],
         "opacity": 0.3,
         "showscale": false,
         "type": "surface",
         "x": [
          -15.297300000000002,
          15.297299999999998
         ],
         "y": [
          -0.16729999999999734,
          30.427300000000002
         ],
         "z": [
          [
           0,
           0
          ],
          [
           0,
           0
          ]
         ]
        },
        {
         "colorscale": [
          [
           0,
           "rgb(3, 5, 18)"
          ],
          [
           0.09090909090909091,
           "rgb(25, 25, 51)"
          ],
          [
           0.18181818181818182,
           "rgb(44, 42, 87)"
          ],
          [
           0.2727272727272727,
           "rgb(58, 60, 125)"
          ],
          [
           0.36363636363636365,
           "rgb(62, 83, 160)"
          ],
          [
           0.45454545454545453,
           "rgb(62, 109, 178)"
          ],
          [
           0.5454545454545454,
           "rgb(72, 134, 187)"
          ],
          [
           0.6363636363636364,
           "rgb(89, 159, 196)"
          ],
          [
           0.7272727272727273,
           "rgb(114, 184, 205)"
          ],
          [
           0.8181818181818182,
           "rgb(149, 207, 216)"
          ],
          [
           0.9090909090909091,
           "rgb(192, 229, 232)"
          ],
          [
           1,
           "rgb(234, 252, 253)"
          ]
         ],
         "opacity": 0.3,
         "showscale": false,
         "type": "surface",
         "x": [
          -15.297300000000002,
          15.297299999999998
         ],
         "y": [
          -0.16729999999999734,
          30.427300000000002
         ],
         "z": [
          [
           0,
           0
          ],
          [
           0,
           0
          ]
         ]
        },
        {
         "colorscale": [
          [
           0,
           "rgb(3, 5, 18)"
          ],
          [
           0.09090909090909091,
           "rgb(25, 25, 51)"
          ],
          [
           0.18181818181818182,
           "rgb(44, 42, 87)"
          ],
          [
           0.2727272727272727,
           "rgb(58, 60, 125)"
          ],
          [
           0.36363636363636365,
           "rgb(62, 83, 160)"
          ],
          [
           0.45454545454545453,
           "rgb(62, 109, 178)"
          ],
          [
           0.5454545454545454,
           "rgb(72, 134, 187)"
          ],
          [
           0.6363636363636364,
           "rgb(89, 159, 196)"
          ],
          [
           0.7272727272727273,
           "rgb(114, 184, 205)"
          ],
          [
           0.8181818181818182,
           "rgb(149, 207, 216)"
          ],
          [
           0.9090909090909091,
           "rgb(192, 229, 232)"
          ],
          [
           1,
           "rgb(234, 252, 253)"
          ]
         ],
         "opacity": 0.3,
         "showscale": false,
         "type": "surface",
         "x": [
          -15.297300000000002,
          15.297299999999998
         ],
         "y": [
          -0.16729999999999734,
          30.427300000000002
         ],
         "z": [
          [
           0,
           0
          ],
          [
           0,
           0
          ]
         ]
        },
        {
         "colorscale": [
          [
           0,
           "rgb(3, 5, 18)"
          ],
          [
           0.09090909090909091,
           "rgb(25, 25, 51)"
          ],
          [
           0.18181818181818182,
           "rgb(44, 42, 87)"
          ],
          [
           0.2727272727272727,
           "rgb(58, 60, 125)"
          ],
          [
           0.36363636363636365,
           "rgb(62, 83, 160)"
          ],
          [
           0.45454545454545453,
           "rgb(62, 109, 178)"
          ],
          [
           0.5454545454545454,
           "rgb(72, 134, 187)"
          ],
          [
           0.6363636363636364,
           "rgb(89, 159, 196)"
          ],
          [
           0.7272727272727273,
           "rgb(114, 184, 205)"
          ],
          [
           0.8181818181818182,
           "rgb(149, 207, 216)"
          ],
          [
           0.9090909090909091,
           "rgb(192, 229, 232)"
          ],
          [
           1,
           "rgb(234, 252, 253)"
          ]
         ],
         "opacity": 0.3,
         "showscale": false,
         "type": "surface",
         "x": [
          -15.297300000000002,
          15.297299999999998
         ],
         "y": [
          -0.16729999999999734,
          30.427300000000002
         ],
         "z": [
          [
           0,
           0
          ],
          [
           0,
           0
          ]
         ]
        },
        {
         "marker": {
          "color": [
           11.00390625,
           11.9921875,
           11.00390625,
           11.9921875,
           11.00390625,
           8.0390625,
           7.05078125,
           10.015625,
           13.96875,
           8.0390625,
           13.96875,
           11.9921875,
           11.00390625,
           8.0390625,
           9.02734375,
           11.9921875,
           11.9921875,
           12.98046875,
           11.00390625,
           11.00390625,
           8.0390625,
           11.9921875,
           11.00390625,
           10.015625,
           11.00390625,
           11.9921875,
           9.02734375,
           10.015625,
           11.00390625,
           11.9921875,
           11.9921875,
           10.015625,
           11.00390625,
           11.00390625,
           11.9921875,
           11.9921875,
           11.00390625,
           9.02734375,
           10.015625,
           12.98046875,
           11.9921875,
           11.9921875,
           8.0390625,
           10.015625,
           11.00390625,
           11.00390625,
           11.9921875,
           11.9921875,
           10.015625
          ],
          "size": 2,
          "symbol": "square"
         },
         "mode": "markers",
         "name": "larpix packets",
         "opacity": 1,
         "showlegend": true,
         "type": "scatter3d",
         "visible": "legendonly",
         "x": [
          -15.297300000000002,
          -14.853900000000001,
          -14.410500000000003,
          -13.967100000000002,
          -13.523700000000002,
          -13.080300000000003,
          -13.080300000000003,
          -12.636900000000002,
          -12.193500000000004,
          -12.193500000000004,
          -11.750100000000003,
          -11.306700000000003,
          -10.863300000000002,
          -10.419900000000002,
          -9.976500000000003,
          -9.533100000000001,
          -9.089700000000002,
          -8.646300000000002,
          -8.202900000000003,
          -7.759500000000003,
          -7.316100000000003,
          -6.872700000000002,
          -6.429300000000002,
          -5.985900000000003,
          -5.542500000000002,
          -5.099100000000003,
          -4.655700000000003,
          -4.212300000000002,
          -3.768900000000002,
          -3.3255000000000026,
          -2.8821000000000025,
          -2.4387,
          -1.5519000000000005,
          -1.1085000000000007,
          -0.665100000000001,
          -0.22170000000000128,
          0.22169999999999845,
          0.6650999999999982,
          1.108499999999998,
          1.5519000000000005,
          1.9953000000000003,
          2.4387,
          2.8821,
          3.3254999999999995,
          3.7688999999999995,
          4.212299999999999,
          4.655699999999999,
          5.099099999999998,
          5.542499999999999
         ],
         "y": [
          12.247900000000001,
          12.247900000000001,
          12.247900000000001,
          12.247900000000001,
          12.247900000000001,
          12.247900000000001,
          12.691300000000002,
          12.691300000000002,
          12.691300000000002,
          12.691300000000002,
          12.691300000000002,
          12.691300000000002,
          12.691300000000002,
          12.691300000000002,
          13.1347,
          13.1347,
          13.1347,
          13.1347,
          13.1347,
          13.1347,
          13.578100000000001,
          13.578100000000001,
          13.578100000000001,
          13.578100000000001,
          13.578100000000001,
          13.578100000000001,
          14.021500000000003,
          14.021500000000003,
          14.021500000000003,
          14.021500000000003,
          14.021500000000003,
          14.021500000000003,
          14.464900000000004,
          14.464900000000004,
          14.464900000000004,
          14.464900000000004,
          14.464900000000004,
          14.464900000000004,
          14.908300000000002,
          14.908300000000002,
          14.908300000000002,
          14.908300000000002,
          14.908300000000002,
          14.908300000000002,
          15.351700000000003,
          15.351700000000003,
          15.351700000000003,
          15.351700000000003,
          15.351700000000003
         ],
         "z": [
          1.0503437642878843,
          1.0503440835783808,
          1.050344243223629,
          1.0503440835783808,
          1.0503452010951184,
          1.050347116838097,
          1.0503483940000826,
          1.0503440835783808,
          1.0503448818046217,
          1.0503546201647629,
          1.0503463186118558,
          1.050345680030863,
          1.050348713290579,
          1.0503491922263237,
          1.050350150097813,
          1.0503482343548345,
          1.0503499904525646,
          1.0503499904525646,
          1.0503512676145506,
          1.0503515869050468,
          1.0503527044217844,
          1.0503519061955433,
          1.0503522254860398,
          1.050350150097813,
          1.0503535026480255,
          1.050353821938522,
          1.0503539815837701,
          1.0503552587457559,
          1.0503546201647629,
          1.0503546201647629,
          1.050355418391004,
          1.0503576534244792,
          1.0503576534244792,
          1.0503579727149754,
          1.0503571744887346,
          1.0503587709412168,
          1.0503598884579541,
          1.0503614849104363,
          1.0503611656199399,
          1.0503608463294434,
          1.0503595691674577,
          1.0503600481032023,
          1.0503645181701524,
          1.0503634006534148,
          1.050363560298663,
          1.0503640392344078,
          1.0503638795891594,
          1.0503637199439113,
          1.050364997105897
         ]
        },
        {
         "mode": "lines",
         "name": "edep segments",
         "showlegend": true,
         "type": "scatter3d",
         "visible": "legendonly",
         "x": [
          -16.006349563598633,
          -15.391895294189453,
          null,
          -16.006349563598633,
          -13.22914981842041,
          null,
          -13.22914981842041,
          -12.211106300354004,
          null,
          -12.211106300354004,
          -9.43758773803711,
          null,
          -9.43758773803711,
          -4.534030437469482,
          null,
          -4.534030437469482,
          2.0785508155822754,
          null,
          2.0785508155822754,
          2.3919692039489746,
          null,
          2.3919692039489746,
          3.246556282043457,
          null,
          3.246556282043457,
          3.888812303543091,
          null,
          3.888812303543091,
          3.971367597579956,
          null,
          3.971367597579956,
          5.8935980796813965,
          null,
          3.971367597579956,
          4.003108024597168,
          null,
          3.888812303543091,
          3.9369800090789795,
          null,
          -3.7315762042999268,
          -3.731628894805908,
          null,
          -4.027649879455566,
          -4.02881383895874,
          null,
          3.9937281608581543,
          3.994828939437866,
          null,
          4.0515265464782715,
          4.053354263305664,
          null,
          3.246556282043457,
          3.260795831680298,
          null,
          2.3919692039489746,
          2.4678285121917725,
          null,
          2.0785508155822754,
          2.173701047897339,
          null,
          2.173701047897339,
          2.17891788482666,
          null,
          -4.534030437469482,
          -4.507775783538818,
          null,
          -9.43758773803711,
          -9.405550956726074,
          null,
          -12.211106300354004,
          -12.02774715423584,
          null,
          -12.02774715423584,
          -11.877034187316895,
          null,
          -11.877034187316895,
          -11.880877494812012,
          null,
          -13.22914981842041,
          -13.202092170715332,
          null,
          -13.20047664642334,
          -13.179215431213379,
          null,
          -16.006349563598633,
          -12.341842651367188,
          null,
          -12.341842651367188,
          -11.559752464294434,
          null,
          -11.559752464294434,
          -6.421576976776123,
          null,
          -6.421576976776123,
          -4.89859676361084,
          null,
          -4.89859676361084,
          -0.9112421870231628,
          null,
          -0.9112421870231628,
          0.16262874007225037,
          null,
          0.16262874007225037,
          0.6758129000663757,
          null,
          0.6758129000663757,
          2.7512154579162598,
          null,
          2.7512154579162598,
          10.1064453125,
          null,
          10.1064453125,
          14.983650207519531,
          null,
          10.1064453125,
          10.124650955200195,
          null,
          2.7512154579162598,
          2.786339044570923,
          null,
          0.6758129000663757,
          0.7351632714271545,
          null,
          0.16262874007225037,
          0.17820888757705688,
          null,
          -0.9112421870231628,
          -0.6810216903686523,
          null,
          -0.6810216903686523,
          -0.5669898390769958,
          null,
          -0.5669898390769958,
          -0.5201080441474915,
          null,
          -0.5201080441474915,
          -0.527769148349762,
          null,
          -0.8955006003379822,
          -0.8833561539649963,
          null,
          -4.89859676361084,
          -4.758756160736084,
          null,
          -4.758756160736084,
          -4.697951316833496,
          null,
          -4.697951316833496,
          -4.746639251708984,
          null,
          -6.421576976776123,
          -6.343478679656982,
          null,
          -11.559752464294434,
          -11.528297424316406,
          null,
          -12.341842651367188,
          -12.315187454223633,
          null,
          0.2940044105052948,
          0.2959747016429901,
          null,
          -7.132273197174072,
          -7.131799221038818,
          null,
          -16.006349563598633,
          -14.378837585449219,
          null,
          -14.378837585449219,
          -13.345105171203613,
          null,
          -14.378837585449219,
          -14.22562026977539,
          null,
          -14.22562026977539,
          -14.221668243408203,
          null
         ],
         "y": [
          -13.83834457397461,
          -13.93404483795166,
          null,
          12.009899139404297,
          12.451523780822754,
          null,
          12.451523780822754,
          12.613044738769531,
          null,
          12.613044738769531,
          13.055159568786621,
          null,
          13.055159568786621,
          13.838233947753906,
          null,
          13.838233947753906,
          14.893411636352539,
          null,
          14.893411636352539,
          14.942770957946777,
          null,
          14.942770957946777,
          15.07746696472168,
          null,
          15.07746696472168,
          15.178765296936035,
          null,
          15.178765296936035,
          15.19178295135498,
          null,
          15.19178295135498,
          15.494999885559082,
          null,
          15.19178295135498,
          15.172006607055664,
          null,
          15.178765296936035,
          15.1294584274292,
          null,
          8.768338203430176,
          8.768293380737305,
          null,
          9.752032279968262,
          9.752047538757324,
          null,
          13.613380432128906,
          13.612700462341309,
          null,
          14.78055191040039,
          14.77845573425293,
          null,
          15.07746696472168,
          15.11154556274414,
          null,
          14.942770957946777,
          14.906627655029297,
          null,
          14.893411636352539,
          14.829169273376465,
          null,
          14.829169273376465,
          14.776239395141602,
          null,
          13.838233947753906,
          13.82871150970459,
          null,
          13.055159568786621,
          13.023370742797852,
          null,
          12.613044738769531,
          12.66169261932373,
          null,
          12.66169261932373,
          12.652235984802246,
          null,
          12.652235984802246,
          12.573963165283203,
          null,
          12.451523780822754,
          12.487776756286621,
          null,
          12.4849271774292,
          12.470967292785645,
          null,
          1.757083773612976,
          1.8701072931289673,
          null,
          1.8701072931289673,
          1.8937816619873047,
          null,
          1.8937816619873047,
          2.0522396564483643,
          null,
          2.0522396564483643,
          2.099470615386963,
          null,
          2.099470615386963,
          2.2246899604797363,
          null,
          2.2246899604797363,
          2.257967233657837,
          null,
          2.257967233657837,
          2.273956060409546,
          null,
          2.273956060409546,
          2.3393187522888184,
          null,
          2.3393187522888184,
          2.568308115005493,
          null,
          2.568308115005493,
          2.7267072200775146,
          null,
          2.568308115005493,
          2.5794663429260254,
          null,
          2.3393187522888184,
          2.342200756072998,
          null,
          2.273956060409546,
          2.1526029109954834,
          null,
          2.257967233657837,
          2.2587928771972656,
          null,
          2.2246899604797363,
          2.287470579147339,
          null,
          2.287470579147339,
          2.264718770980835,
          null,
          2.264718770980835,
          2.117586612701416,
          null,
          2.117586612701416,
          2.115166187286377,
          null,
          2.230569362640381,
          2.2322347164154053,
          null,
          2.099470615386963,
          1.9981580972671509,
          null,
          1.9981580972671509,
          2.007958173751831,
          null,
          2.007958173751831,
          1.9950685501098633,
          null,
          2.0522396564483643,
          2.013216733932495,
          null,
          1.8937816619873047,
          1.854798436164856,
          null,
          1.8701072931289673,
          1.8564990758895874,
          null,
          15.256068229675293,
          15.25701904296875,
          null,
          8.341014862060547,
          8.340293884277344,
          null,
          -15.03752613067627,
          -15.317008972167969,
          null,
          -15.317008972167969,
          -15.494999885559082,
          null,
          -15.317008972167969,
          -15.318767547607422,
          null,
          -15.318767547607422,
          -15.314298629760742,
          null
         ],
         "z": [
          -14.44400691986084,
          -14.551674842834473,
          null,
          1.3247582912445068,
          1.3767329454421997,
          null,
          1.3767329454421997,
          1.395505666732788,
          null,
          1.395505666732788,
          1.447016716003418,
          null,
          1.447016716003418,
          1.5359829664230347,
          null,
          1.5359829664230347,
          1.66164231300354,
          null,
          1.66164231300354,
          1.6670615673065186,
          null,
          1.6670615673065186,
          1.6815917491912842,
          null,
          1.6815917491912842,
          1.6924607753753662,
          null,
          1.6924607753753662,
          1.6938519477844238,
          null,
          1.6938519477844238,
          1.7264387607574463,
          null,
          1.6938519477844238,
          1.6562318801879883,
          null,
          1.6924607753753662,
          1.67928946018219,
          null,
          -3.5664114952087402,
          -3.5664255619049072,
          null,
          -2.109400749206543,
          -2.109010696411133,
          null,
          0.7012640237808228,
          0.7005154490470886,
          null,
          1.7896133661270142,
          1.793606162071228,
          null,
          1.6815917491912842,
          1.683799386024475,
          null,
          1.6670615673065186,
          1.7237776517868042,
          null,
          1.66164231300354,
          1.7016034126281738,
          null,
          1.7016034126281738,
          1.671044945716858,
          null,
          1.5359829664230347,
          1.571617841720581,
          null,
          1.447016716003418,
          1.506072998046875,
          null,
          1.395505666732788,
          1.539543867111206,
          null,
          1.539543867111206,
          1.5115759372711182,
          null,
          1.5115759372711182,
          1.4657214879989624,
          null,
          1.3767329454421997,
          1.4352835416793823,
          null,
          1.4444092512130737,
          1.4517419338226318,
          null,
          -0.608610987663269,
          -0.6108201146125793,
          null,
          -0.6108201146125793,
          -0.6109877824783325,
          null,
          -0.6109877824783325,
          -0.6145438551902771,
          null,
          -0.6145438551902771,
          -0.6136943101882935,
          null,
          -0.6136943101882935,
          -0.6082031726837158,
          null,
          -0.6082031726837158,
          -0.6057892441749573,
          null,
          -0.6057892441749573,
          -0.6048012971878052,
          null,
          -0.6048012971878052,
          -0.6002258658409119,
          null,
          -0.6002258658409119,
          -0.5824361443519592,
          null,
          -0.5824361443519592,
          -0.5661805272102356,
          null,
          -0.5824361443519592,
          -0.5487532615661621,
          null,
          -0.6002258658409119,
          -0.563652753829956,
          null,
          -0.6048012971878052,
          -0.6082032322883606,
          null,
          -0.6057892441749573,
          -0.579281210899353,
          null,
          -0.6082031726837158,
          -0.4927891790866852,
          null,
          -0.4927891790866852,
          -0.36004838347435,
          null,
          -0.36004838347435,
          -0.3269575238227844,
          null,
          -0.3269575238227844,
          -0.31405535340309143,
          null,
          -0.5997005701065063,
          -0.5967912077903748,
          null,
          -0.6136943101882935,
          -0.5631818771362305,
          null,
          -0.5631818771362305,
          -0.6686545610427856,
          null,
          -0.6686545610427856,
          -0.681041419506073,
          null,
          -0.6145438551902771,
          -0.6132919788360596,
          null,
          -0.6109877824783325,
          -0.6439357995986938,
          null,
          -0.6108201146125793,
          -0.6438544988632202,
          null,
          -14.258353233337402,
          -14.260002136230469,
          null,
          -11.583809852600098,
          -11.582481384277344,
          null,
          10.21406364440918,
          10.426048278808594,
          null,
          10.426048278808594,
          10.560461044311523,
          null,
          10.426048278808594,
          10.581188201904297,
          null,
          10.581188201904297,
          10.588165283203125,
          null
         ]
        }
       ],
       "layout": {
        "height": 768,
        "legend": {
         "orientation": "h"
        },
        "scene": {
         "zaxis": {
          "range": [
           0,
           31
          ]
         }
        },
        "template": {
         "data": {
          "bar": [
           {
            "error_x": {
             "color": "#2a3f5f"
            },
            "error_y": {
             "color": "#2a3f5f"
            },
            "marker": {
             "line": {
              "color": "#E5ECF6",
              "width": 0.5
             },
             "pattern": {
              "fillmode": "overlay",
              "size": 10,
              "solidity": 0.2
             }
            },
            "type": "bar"
           }
          ],
          "barpolar": [
           {
            "marker": {
             "line": {
              "color": "#E5ECF6",
              "width": 0.5
             },
             "pattern": {
              "fillmode": "overlay",
              "size": 10,
              "solidity": 0.2
             }
            },
            "type": "barpolar"
           }
          ],
          "carpet": [
           {
            "aaxis": {
             "endlinecolor": "#2a3f5f",
             "gridcolor": "white",
             "linecolor": "white",
             "minorgridcolor": "white",
             "startlinecolor": "#2a3f5f"
            },
            "baxis": {
             "endlinecolor": "#2a3f5f",
             "gridcolor": "white",
             "linecolor": "white",
             "minorgridcolor": "white",
             "startlinecolor": "#2a3f5f"
            },
            "type": "carpet"
           }
          ],
          "choropleth": [
           {
            "colorbar": {
             "outlinewidth": 0,
             "ticks": ""
            },
            "type": "choropleth"
           }
          ],
          "contour": [
           {
            "colorbar": {
             "outlinewidth": 0,
             "ticks": ""
            },
            "colorscale": [
             [
              0,
              "#0d0887"
             ],
             [
              0.1111111111111111,
              "#46039f"
             ],
             [
              0.2222222222222222,
              "#7201a8"
             ],
             [
              0.3333333333333333,
              "#9c179e"
             ],
             [
              0.4444444444444444,
              "#bd3786"
             ],
             [
              0.5555555555555556,
              "#d8576b"
             ],
             [
              0.6666666666666666,
              "#ed7953"
             ],
             [
              0.7777777777777778,
              "#fb9f3a"
             ],
             [
              0.8888888888888888,
              "#fdca26"
             ],
             [
              1,
              "#f0f921"
             ]
            ],
            "type": "contour"
           }
          ],
          "contourcarpet": [
           {
            "colorbar": {
             "outlinewidth": 0,
             "ticks": ""
            },
            "type": "contourcarpet"
           }
          ],
          "heatmap": [
           {
            "colorbar": {
             "outlinewidth": 0,
             "ticks": ""
            },
            "colorscale": [
             [
              0,
              "#0d0887"
             ],
             [
              0.1111111111111111,
              "#46039f"
             ],
             [
              0.2222222222222222,
              "#7201a8"
             ],
             [
              0.3333333333333333,
              "#9c179e"
             ],
             [
              0.4444444444444444,
              "#bd3786"
             ],
             [
              0.5555555555555556,
              "#d8576b"
             ],
             [
              0.6666666666666666,
              "#ed7953"
             ],
             [
              0.7777777777777778,
              "#fb9f3a"
             ],
             [
              0.8888888888888888,
              "#fdca26"
             ],
             [
              1,
              "#f0f921"
             ]
            ],
            "type": "heatmap"
           }
          ],
          "heatmapgl": [
           {
            "colorbar": {
             "outlinewidth": 0,
             "ticks": ""
            },
            "colorscale": [
             [
              0,
              "#0d0887"
             ],
             [
              0.1111111111111111,
              "#46039f"
             ],
             [
              0.2222222222222222,
              "#7201a8"
             ],
             [
              0.3333333333333333,
              "#9c179e"
             ],
             [
              0.4444444444444444,
              "#bd3786"
             ],
             [
              0.5555555555555556,
              "#d8576b"
             ],
             [
              0.6666666666666666,
              "#ed7953"
             ],
             [
              0.7777777777777778,
              "#fb9f3a"
             ],
             [
              0.8888888888888888,
              "#fdca26"
             ],
             [
              1,
              "#f0f921"
             ]
            ],
            "type": "heatmapgl"
           }
          ],
          "histogram": [
           {
            "marker": {
             "pattern": {
              "fillmode": "overlay",
              "size": 10,
              "solidity": 0.2
             }
            },
            "type": "histogram"
           }
          ],
          "histogram2d": [
           {
            "colorbar": {
             "outlinewidth": 0,
             "ticks": ""
            },
            "colorscale": [
             [
              0,
              "#0d0887"
             ],
             [
              0.1111111111111111,
              "#46039f"
             ],
             [
              0.2222222222222222,
              "#7201a8"
             ],
             [
              0.3333333333333333,
              "#9c179e"
             ],
             [
              0.4444444444444444,
              "#bd3786"
             ],
             [
              0.5555555555555556,
              "#d8576b"
             ],
             [
              0.6666666666666666,
              "#ed7953"
             ],
             [
              0.7777777777777778,
              "#fb9f3a"
             ],
             [
              0.8888888888888888,
              "#fdca26"
             ],
             [
              1,
              "#f0f921"
             ]
            ],
            "type": "histogram2d"
           }
          ],
          "histogram2dcontour": [
           {
            "colorbar": {
             "outlinewidth": 0,
             "ticks": ""
            },
            "colorscale": [
             [
              0,
              "#0d0887"
             ],
             [
              0.1111111111111111,
              "#46039f"
             ],
             [
              0.2222222222222222,
              "#7201a8"
             ],
             [
              0.3333333333333333,
              "#9c179e"
             ],
             [
              0.4444444444444444,
              "#bd3786"
             ],
             [
              0.5555555555555556,
              "#d8576b"
             ],
             [
              0.6666666666666666,
              "#ed7953"
             ],
             [
              0.7777777777777778,
              "#fb9f3a"
             ],
             [
              0.8888888888888888,
              "#fdca26"
             ],
             [
              1,
              "#f0f921"
             ]
            ],
            "type": "histogram2dcontour"
           }
          ],
          "mesh3d": [
           {
            "colorbar": {
             "outlinewidth": 0,
             "ticks": ""
            },
            "type": "mesh3d"
           }
          ],
          "parcoords": [
           {
            "line": {
             "colorbar": {
              "outlinewidth": 0,
              "ticks": ""
             }
            },
            "type": "parcoords"
           }
          ],
          "pie": [
           {
            "automargin": true,
            "type": "pie"
           }
          ],
          "scatter": [
           {
            "fillpattern": {
             "fillmode": "overlay",
             "size": 10,
             "solidity": 0.2
            },
            "type": "scatter"
           }
          ],
          "scatter3d": [
           {
            "line": {
             "colorbar": {
              "outlinewidth": 0,
              "ticks": ""
             }
            },
            "marker": {
             "colorbar": {
              "outlinewidth": 0,
              "ticks": ""
             }
            },
            "type": "scatter3d"
           }
          ],
          "scattercarpet": [
           {
            "marker": {
             "colorbar": {
              "outlinewidth": 0,
              "ticks": ""
             }
            },
            "type": "scattercarpet"
           }
          ],
          "scattergeo": [
           {
            "marker": {
             "colorbar": {
              "outlinewidth": 0,
              "ticks": ""
             }
            },
            "type": "scattergeo"
           }
          ],
          "scattergl": [
           {
            "marker": {
             "colorbar": {
              "outlinewidth": 0,
              "ticks": ""
             }
            },
            "type": "scattergl"
           }
          ],
          "scattermapbox": [
           {
            "marker": {
             "colorbar": {
              "outlinewidth": 0,
              "ticks": ""
             }
            },
            "type": "scattermapbox"
           }
          ],
          "scatterpolar": [
           {
            "marker": {
             "colorbar": {
              "outlinewidth": 0,
              "ticks": ""
             }
            },
            "type": "scatterpolar"
           }
          ],
          "scatterpolargl": [
           {
            "marker": {
             "colorbar": {
              "outlinewidth": 0,
              "ticks": ""
             }
            },
            "type": "scatterpolargl"
           }
          ],
          "scatterternary": [
           {
            "marker": {
             "colorbar": {
              "outlinewidth": 0,
              "ticks": ""
             }
            },
            "type": "scatterternary"
           }
          ],
          "surface": [
           {
            "colorbar": {
             "outlinewidth": 0,
             "ticks": ""
            },
            "colorscale": [
             [
              0,
              "#0d0887"
             ],
             [
              0.1111111111111111,
              "#46039f"
             ],
             [
              0.2222222222222222,
              "#7201a8"
             ],
             [
              0.3333333333333333,
              "#9c179e"
             ],
             [
              0.4444444444444444,
              "#bd3786"
             ],
             [
              0.5555555555555556,
              "#d8576b"
             ],
             [
              0.6666666666666666,
              "#ed7953"
             ],
             [
              0.7777777777777778,
              "#fb9f3a"
             ],
             [
              0.8888888888888888,
              "#fdca26"
             ],
             [
              1,
              "#f0f921"
             ]
            ],
            "type": "surface"
           }
          ],
          "table": [
           {
            "cells": {
             "fill": {
              "color": "#EBF0F8"
             },
             "line": {
              "color": "white"
             }
            },
            "header": {
             "fill": {
              "color": "#C8D4E3"
             },
             "line": {
              "color": "white"
             }
            },
            "type": "table"
           }
          ]
         },
         "layout": {
          "annotationdefaults": {
           "arrowcolor": "#2a3f5f",
           "arrowhead": 0,
           "arrowwidth": 1
          },
          "autotypenumbers": "strict",
          "coloraxis": {
           "colorbar": {
            "outlinewidth": 0,
            "ticks": ""
           }
          },
          "colorscale": {
           "diverging": [
            [
             0,
             "#8e0152"
            ],
            [
             0.1,
             "#c51b7d"
            ],
            [
             0.2,
             "#de77ae"
            ],
            [
             0.3,
             "#f1b6da"
            ],
            [
             0.4,
             "#fde0ef"
            ],
            [
             0.5,
             "#f7f7f7"
            ],
            [
             0.6,
             "#e6f5d0"
            ],
            [
             0.7,
             "#b8e186"
            ],
            [
             0.8,
             "#7fbc41"
            ],
            [
             0.9,
             "#4d9221"
            ],
            [
             1,
             "#276419"
            ]
           ],
           "sequential": [
            [
             0,
             "#0d0887"
            ],
            [
             0.1111111111111111,
             "#46039f"
            ],
            [
             0.2222222222222222,
             "#7201a8"
            ],
            [
             0.3333333333333333,
             "#9c179e"
            ],
            [
             0.4444444444444444,
             "#bd3786"
            ],
            [
             0.5555555555555556,
             "#d8576b"
            ],
            [
             0.6666666666666666,
             "#ed7953"
            ],
            [
             0.7777777777777778,
             "#fb9f3a"
            ],
            [
             0.8888888888888888,
             "#fdca26"
            ],
            [
             1,
             "#f0f921"
            ]
           ],
           "sequentialminus": [
            [
             0,
             "#0d0887"
            ],
            [
             0.1111111111111111,
             "#46039f"
            ],
            [
             0.2222222222222222,
             "#7201a8"
            ],
            [
             0.3333333333333333,
             "#9c179e"
            ],
            [
             0.4444444444444444,
             "#bd3786"
            ],
            [
             0.5555555555555556,
             "#d8576b"
            ],
            [
             0.6666666666666666,
             "#ed7953"
            ],
            [
             0.7777777777777778,
             "#fb9f3a"
            ],
            [
             0.8888888888888888,
             "#fdca26"
            ],
            [
             1,
             "#f0f921"
            ]
           ]
          },
          "colorway": [
           "#636efa",
           "#EF553B",
           "#00cc96",
           "#ab63fa",
           "#FFA15A",
           "#19d3f3",
           "#FF6692",
           "#B6E880",
           "#FF97FF",
           "#FECB52"
          ],
          "font": {
           "color": "#2a3f5f"
          },
          "geo": {
           "bgcolor": "white",
           "lakecolor": "white",
           "landcolor": "#E5ECF6",
           "showlakes": true,
           "showland": true,
           "subunitcolor": "white"
          },
          "hoverlabel": {
           "align": "left"
          },
          "hovermode": "closest",
          "mapbox": {
           "style": "light"
          },
          "paper_bgcolor": "white",
          "plot_bgcolor": "#E5ECF6",
          "polar": {
           "angularaxis": {
            "gridcolor": "white",
            "linecolor": "white",
            "ticks": ""
           },
           "bgcolor": "#E5ECF6",
           "radialaxis": {
            "gridcolor": "white",
            "linecolor": "white",
            "ticks": ""
           }
          },
          "scene": {
           "xaxis": {
            "backgroundcolor": "#E5ECF6",
            "gridcolor": "white",
            "gridwidth": 2,
            "linecolor": "white",
            "showbackground": true,
            "ticks": "",
            "zerolinecolor": "white"
           },
           "yaxis": {
            "backgroundcolor": "#E5ECF6",
            "gridcolor": "white",
            "gridwidth": 2,
            "linecolor": "white",
            "showbackground": true,
            "ticks": "",
            "zerolinecolor": "white"
           },
           "zaxis": {
            "backgroundcolor": "#E5ECF6",
            "gridcolor": "white",
            "gridwidth": 2,
            "linecolor": "white",
            "showbackground": true,
            "ticks": "",
            "zerolinecolor": "white"
           }
          },
          "shapedefaults": {
           "line": {
            "color": "#2a3f5f"
           }
          },
          "ternary": {
           "aaxis": {
            "gridcolor": "white",
            "linecolor": "white",
            "ticks": ""
           },
           "baxis": {
            "gridcolor": "white",
            "linecolor": "white",
            "ticks": ""
           },
           "bgcolor": "#E5ECF6",
           "caxis": {
            "gridcolor": "white",
            "linecolor": "white",
            "ticks": ""
           }
          },
          "title": {
           "x": 0.05
          },
          "xaxis": {
           "automargin": true,
           "gridcolor": "white",
           "linecolor": "white",
           "ticks": "",
           "title": {
            "standoff": 15
           },
           "zerolinecolor": "white",
           "zerolinewidth": 2
          },
          "yaxis": {
           "automargin": true,
           "gridcolor": "white",
           "linecolor": "white",
           "ticks": "",
           "title": {
            "standoff": 15
           },
           "zerolinecolor": "white",
           "zerolinewidth": 2
          }
         }
        },
        "width": 1024
       }
      }
     },
     "metadata": {},
     "output_type": "display_data"
    }
   ],
   "source": [
    "fig = go.Figure()\n",
    "\n",
    "fig.add_traces(draw_cathode_planes(\n",
    "    geom_dict,\n",
    "    tpc_centers,\n",
    "    showscale=False,\n",
    "    opacity=0.3,\n",
    "    colorscale='ice',\n",
    "))\n",
    "\n",
    "fig.add_traces(draw_anode_planes(\n",
    "    geom_dict,\n",
    "    tpc_centers,\n",
    "    showscale=False,\n",
    "    opacity=0.3,\n",
    "    colorscale='ice',\n",
    "))\n",
    "\n",
    "\n",
    "trace = go.Scatter3d(\n",
    "        x=x, y=y, z=z,\n",
    "        marker_color=dQ,\n",
    "        name='larpix packets',\n",
    "        mode='markers',\n",
    "        visible='legendonly',\n",
    "        marker_size=2,\n",
    "        marker_symbol='square',\n",
    "        showlegend=True,\n",
    "        opacity=1.\n",
    "        )\n",
    "\n",
    "tracks = plot_tracks(seg_ev, \n",
    "                     mode=\"lines\",\n",
    "                     name=\"edep segments\",\n",
    "                     visible='legendonly',\n",
    "                     showlegend=True\n",
    "                     )\n",
    "\n",
    "fig.update_layout(\n",
    "    width=1024, height=768,\n",
    "    legend_orientation=\"h\",\n",
    "    scene = dict(\n",
    "        zaxis = dict(range=[0,31],),),\n",
    "                     \n",
    ")\n",
    "\n",
    "fig.add_traces(trace)\n",
    "fig.add_traces(tracks)\n",
    "fig.show()\n",
    "#Make sure to click on the \"Larpix packets\" and \"edep segments\" icons on the plot so that they are visible!"
   ]
  },
  {
   "cell_type": "code",
   "execution_count": null,
   "id": "0e0ced88-e877-4c48-b192-87f34c03244b",
   "metadata": {},
   "outputs": [],
   "source": []
  }
 ],
 "metadata": {
  "kernelspec": {
   "display_name": "Python 3 (ipykernel)",
   "language": "python",
   "name": "python3"
  },
  "language_info": {
   "codemirror_mode": {
    "name": "ipython",
    "version": 3
   },
   "file_extension": ".py",
   "mimetype": "text/x-python",
   "name": "python",
   "nbconvert_exporter": "python",
   "pygments_lexer": "ipython3",
   "version": "3.9.6"
  }
 },
 "nbformat": 4,
 "nbformat_minor": 5
}
